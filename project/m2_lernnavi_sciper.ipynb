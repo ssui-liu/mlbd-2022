{
 "cells": [
  {
   "cell_type": "markdown",
   "id": "457a6a91-117e-41b3-be96-ffa6ac9d92e7",
   "metadata": {
    "id": "457a6a91-117e-41b3-be96-ffa6ac9d92e7"
   },
   "source": [
    "# M2 | Exploration Notebook\n",
    "\n",
    "In this notebook, you will do a first exploration of the data set that you will use for your project. One part of this exploration is guided, i.e. we will ask you to solve specific questions (task 1-3). The other part is open, i.e. we will ask you to come up with your own exploration ideas (task 4). \n",
    "\n",
    "Please upload your solved notebook to Moodle (under Milestone 2 Submission)adding your SCIPER number in title, example: m2-lernnavi-456392.ipynb\n",
    "\n",
    "\n",
    "## Brief overview of Lernnavi\n",
    "[Lernnavi](https://www.lernnavi.ch) is an instrument for promoting part of the basic technical study skills in German and mathematics.\n",
    "\n",
    "\n",
    "For the guided part of the exploration we will focus on the three main tables:\n",
    "* *users*: demographic information of users.\n",
    "* *events*: events done by the users in the platform.\n",
    "* *transactions*: question and answer solved by user.\n",
    "\n",
    "### Users\n",
    "* user_id: unique identifier of user in database.\n",
    "* gender: only three values: M male, F female or missing. \n",
    "* canton: swiss canton.\n",
    "* class_level: school year in swiss system.\n",
    "\n",
    "\n",
    "### Events\n",
    "* event_id: unique identifier of event in database.\n",
    "* user_id: user who peformed the event.\n",
    "* timestamp: timestamp of event.\n",
    "* category: classification of action (task, general, statistics, etc).\n",
    "* action: type of action performed.\n",
    "* event_type: whether the students viewed or clicked in the event.\n",
    "* transaction_token: used to link to transactions table.\n",
    "* session_id: session during which the event took place.\n",
    "* tracking_data: optional content associated to this event (e.g., the new points mastered for a topic).\n",
    "\n",
    "\n",
    "### Transactions\n",
    "* transaction_id: unique identifier of transaction in database.\n",
    "* transaction_token: used to link to events table.\n",
    "* user_id: user who performed the transaction.\n",
    "* document_id: document that was answered in transaction.\n",
    "* document_version: version of document that was answered.\n",
    "* evaluation: whether the user answered correctly or not. It is possible that it was only partially right. \n",
    "* input: answer the user gave.\n",
    "* start_time: timestamp of when the user started answering.\n",
    "* commit_time: timestamp of when the user submitted the answer.\n",
    "* user_agent: the browser that the user used.\n",
    "* validation: used to validate the format of the input.\n",
    "* solution: solution to question.\n",
    "* type: type of question that was answered. \n"
   ]
  },
  {
   "cell_type": "code",
   "execution_count": 13,
   "id": "2b10fd14-a60b-4de9-b217-bbaf68dac01c",
   "metadata": {
    "id": "2b10fd14-a60b-4de9-b217-bbaf68dac01c"
   },
   "outputs": [],
   "source": [
    "# Import the tables of the data set as dataframes.\n",
    "import numpy as np\n",
    "import pandas as pd\n",
    "import matplotlib.pyplot as plt\n",
    "import seaborn as sns\n",
    "import warnings\n",
    "warnings.filterwarnings('ignore')\n",
    "sns.set(font_scale=1.2)\n",
    "sns.set_theme(style=\"whitegrid\")\n",
    "\n",
    "DATA_DIR = 'data-m2' #You many change the directory\n",
    "\n",
    "users = pd.read_csv('{}/users.csv'.format(DATA_DIR))\n",
    "events = pd.read_csv('{}/events.csv'.format(DATA_DIR))\n",
    "transactions = pd.read_csv('{}/transactions.csv'.format(DATA_DIR))"
   ]
  },
  {
   "cell_type": "markdown",
   "id": "75b4f5fc-4526-4c00-8045-393cd36a2de6",
   "metadata": {
    "id": "75b4f5fc-4526-4c00-8045-393cd36a2de6"
   },
   "source": [
    "## Task 1: Simple Statistics\n",
    "\n",
    "In this task you are asked to do a first coarse exploration of the data set, using simple statistics and visualizations."
   ]
  },
  {
   "cell_type": "markdown",
   "id": "811d42c0-6f94-436e-b2da-232363fedace",
   "metadata": {
    "id": "811d42c0-6f94-436e-b2da-232363fedace"
   },
   "source": [
    "#### a) How many distinct participants do we have in the data set?\n"
   ]
  },
  {
   "cell_type": "code",
   "execution_count": 14,
   "id": "3935e6ea-982b-4d88-81c1-406f6d8040e8",
   "metadata": {
    "id": "3935e6ea-982b-4d88-81c1-406f6d8040e8"
   },
   "outputs": [
    {
     "data": {
      "text/plain": "13695"
     },
     "execution_count": 14,
     "metadata": {},
     "output_type": "execute_result"
    }
   ],
   "source": [
    "## Your code goes here\n",
    "users['user_id'].nunique()"
   ]
  },
  {
   "cell_type": "markdown",
   "id": "afa67951-aed8-4709-a935-9918d80ede84",
   "metadata": {
    "id": "afa67951-aed8-4709-a935-9918d80ede84"
   },
   "source": [
    "#### b) How many transactions were done per user? Please provide a visualization and discuss the distribution."
   ]
  },
  {
   "cell_type": "code",
   "execution_count": 17,
   "id": "adefdeef-23d3-4feb-9c6f-6a3dd441acf2",
   "metadata": {
    "id": "adefdeef-23d3-4feb-9c6f-6a3dd441acf2"
   },
   "outputs": [
    {
     "data": {
      "text/plain": "<AxesSubplot:ylabel='Frequency'>"
     },
     "execution_count": 17,
     "metadata": {},
     "output_type": "execute_result"
    },
    {
     "data": {
      "text/plain": "<Figure size 432x288 with 1 Axes>",
      "image/png": "[encoded data removed]"
     },
     "metadata": {
      "needs_background": "light"
     },
     "output_type": "display_data"
    }
   ],
   "source": [
    "# Your code goes here\n",
    "%matplotlib inline\n",
    "users_trans = transactions.groupby('user_id')\n",
    "users_trans.apply(len).plot(kind='hist', logy=True)"
   ]
  },
  {
   "cell_type": "markdown",
   "source": [
    "*Your discussion/interpretation goes here*\n"
   ],
   "metadata": {
    "id": "zkDaH4M_a3vR"
   },
   "id": "zkDaH4M_a3vR"
  },
  {
   "cell_type": "markdown",
   "id": "b14fea28-8507-497d-9990-9eb2fefd18c0",
   "metadata": {
    "id": "b14fea28-8507-497d-9990-9eb2fefd18c0"
   },
   "source": [
    "#### c) Which are the 10 most popular event actions? Please provide a visualization of the frequency of the top 10 event actions.\n",
    "\n",
    "Hint: See actions in table events."
   ]
  },
  {
   "cell_type": "code",
   "execution_count": 18,
   "id": "e991ecba",
   "metadata": {
    "id": "e991ecba"
   },
   "outputs": [
    {
     "data": {
      "text/plain": "PAGE_VISIT              653725\nREVIEW_TASK             513389\nSUBMIT_ANSWER           419862\nNAVIGATE_DASHBOARD      350821\nNEXT                    277020\nWINDOW_VISIBLE_FALSE    240660\nWINDOW_VISIBLE_TRUE     199287\nVIEW_QUESTION           154592\nOPEN_FEEDBACK            87071\nGO_TO_THEORY             80746\nName: action, dtype: int64"
     },
     "execution_count": 18,
     "metadata": {},
     "output_type": "execute_result"
    }
   ],
   "source": [
    "# Your code goes here\n",
    "events['action'].value_counts()[:10]"
   ]
  },
  {
   "cell_type": "code",
   "execution_count": 22,
   "outputs": [
    {
     "data": {
      "text/plain": "<AxesSubplot:>"
     },
     "execution_count": 22,
     "metadata": {},
     "output_type": "execute_result"
    },
    {
     "data": {
      "text/plain": "<Figure size 432x288 with 1 Axes>",
      "image/png": "[encoded data removed]"
     },
     "metadata": {
      "needs_background": "light"
     },
     "output_type": "display_data"
    }
   ],
   "source": [
    "events['action'].value_counts()[:10].plot(kind='bar')"
   ],
   "metadata": {
    "collapsed": false,
    "pycharm": {
     "name": "#%%\n"
    }
   }
  },
  {
   "cell_type": "markdown",
   "id": "0e7818a8-e4bc-499c-8683-28b7045e59a2",
   "metadata": {
    "id": "0e7818a8-e4bc-499c-8683-28b7045e59a2"
   },
   "source": [
    "*Your discussion/interpretation goes here*"
   ]
  },
  {
   "cell_type": "markdown",
   "id": "55dd2ced-e567-4b23-8795-cce5132cfdad",
   "metadata": {
    "id": "55dd2ced-e567-4b23-8795-cce5132cfdad"
   },
   "source": [
    "## Task 2: Static Analysis\n",
    "\n",
    "In this second task, you will do a univariate an multivariate exploration of some aggregated features."
   ]
  },
  {
   "cell_type": "markdown",
   "id": "c6278746-ebab-45e7-8312-36f6cc1d4e36",
   "metadata": {
    "id": "c6278746-ebab-45e7-8312-36f6cc1d4e36"
   },
   "source": [
    "#### a) Build a data frame containing one row per user:\n",
    "\n",
    "``[user_id, gender, num_events, num_questions, percentage_correct, num_reading]``\n",
    "\n",
    "\n",
    "The features are defined as follows:\n",
    "\n",
    "- **num_questions**: total number of questions the student answered (hint: action event = submit answer)\n",
    "\n",
    "- **num_events**: total number of events of the student  \n",
    "\n",
    "- **percentage_correct**: number of correct answers/total number of answers (hint: evaluation = correct). If desired, you may assign a weight of 0.5 to partially correct answers. \n",
    "\n",
    "- **num_reading**: total number of theory reading events  (hint: action event = go to theory)"
   ]
  },
  {
   "cell_type": "code",
   "execution_count": 23,
   "id": "29f99c75",
   "metadata": {
    "id": "29f99c75"
   },
   "outputs": [
    {
     "data": {
      "text/plain": "         event_id  user_id      timestamp      category               action  \\\n0              62   393211  1621583814885          TASK        VIEW_QUESTION   \n1              63   393211  1621583898912          TASK        SUBMIT_ANSWER   \n2              64   393211  1621583907207          TASK                 NEXT   \n3              65   393211  1621583907589          TASK        VIEW_QUESTION   \n4              66   393211  1621584222588          TASK        SUBMIT_ANSWER   \n...           ...      ...            ...           ...                  ...   \n3465554   3518462   404560  1645519933345          TASK        SUBMIT_ANSWER   \n3465555   3518463   404560  1645519934803          TASK                 NEXT   \n3465556   3518464   404560  1645519935451       SESSION          REVIEW_TASK   \n3465557   3518465   404552  1645519936842  USER_SESSION  WINDOW_VISIBLE_TRUE   \n3465558   3518466   404551  1645519936855          TASK        SUBMIT_ANSWER   \n\n        event_type                     transaction_token  session_id  \\\n0             VIEW  7a10ca52-ffb5-4069-8800-0dc86d778e94         NaN   \n1            CLICK  7a10ca52-ffb5-4069-8800-0dc86d778e94         NaN   \n2            CLICK  7a10ca52-ffb5-4069-8800-0dc86d778e94         NaN   \n3             VIEW  88fdcaad-f73b-46a2-b561-d262f2441442         NaN   \n4            CLICK  88fdcaad-f73b-46a2-b561-d262f2441442         NaN   \n...            ...                                   ...         ...   \n3465554      CLICK  9edfed2d-ebe8-4b0e-873c-9ba13e6541b3    112259.0   \n3465555      CLICK  9edfed2d-ebe8-4b0e-873c-9ba13e6541b3    112259.0   \n3465556       VIEW  133248bc-5771-4240-94c2-77b23b7c2d97    112259.0   \n3465557       VIEW                                   NaN         NaN   \n3465558      CLICK  a9f626bc-184f-4e35-a466-110f26d042c4    112240.0   \n\n                                             tracking_data evaluation  \n0                                                      NaN        NaN  \n1                                                      NaN        NaN  \n2                                                      NaN        NaN  \n3                                                      NaN        NaN  \n4                                                      NaN        NaN  \n...                                                    ...        ...  \n3465554                                                NaN    CORRECT  \n3465555                                                NaN    CORRECT  \n3465556                                                NaN        NaN  \n3465557  {\"location\": \"https://app.lernnavi.ch/session/...        NaN  \n3465558                                                NaN      WRONG  \n\n[3465559 rows x 10 columns]",
      "text/html": "<div>\n<style scoped>\n    .dataframe tbody tr th:only-of-type {\n        vertical-align: middle;\n    }\n\n    .dataframe tbody tr th {\n        vertical-align: top;\n    }\n\n    .dataframe thead th {\n        text-align: right;\n    }\n</style>\n<table border=\"1\" class=\"dataframe\">\n  <thead>\n    <tr style=\"text-align: right;\">\n      <th></th>\n      <th>event_id</th>\n      <th>user_id</th>\n      <th>timestamp</th>\n      <th>category</th>\n      <th>action</th>\n      <th>event_type</th>\n      <th>transaction_token</th>\n      <th>session_id</th>\n      <th>tracking_data</th>\n      <th>evaluation</th>\n    </tr>\n  </thead>\n  <tbody>\n    <tr>\n      <th>0</th>\n      <td>62</td>\n      <td>393211</td>\n      <td>1621583814885</td>\n      <td>TASK</td>\n      <td>VIEW_QUESTION</td>\n      <td>VIEW</td>\n      <td>7a10ca52-ffb5-4069-8800-0dc86d778e94</td>\n      <td>NaN</td>\n      <td>NaN</td>\n      <td>NaN</td>\n    </tr>\n    <tr>\n      <th>1</th>\n      <td>63</td>\n      <td>393211</td>\n      <td>1621583898912</td>\n      <td>TASK</td>\n      <td>SUBMIT_ANSWER</td>\n      <td>CLICK</td>\n      <td>7a10ca52-ffb5-4069-8800-0dc86d778e94</td>\n      <td>NaN</td>\n      <td>NaN</td>\n      <td>NaN</td>\n    </tr>\n    <tr>\n      <th>2</th>\n      <td>64</td>\n      <td>393211</td>\n      <td>1621583907207</td>\n      <td>TASK</td>\n      <td>NEXT</td>\n      <td>CLICK</td>\n      <td>7a10ca52-ffb5-4069-8800-0dc86d778e94</td>\n      <td>NaN</td>\n      <td>NaN</td>\n      <td>NaN</td>\n    </tr>\n    <tr>\n      <th>3</th>\n      <td>65</td>\n      <td>393211</td>\n      <td>1621583907589</td>\n      <td>TASK</td>\n      <td>VIEW_QUESTION</td>\n      <td>VIEW</td>\n      <td>88fdcaad-f73b-46a2-b561-d262f2441442</td>\n      <td>NaN</td>\n      <td>NaN</td>\n      <td>NaN</td>\n    </tr>\n    <tr>\n      <th>4</th>\n      <td>66</td>\n      <td>393211</td>\n      <td>1621584222588</td>\n      <td>TASK</td>\n      <td>SUBMIT_ANSWER</td>\n      <td>CLICK</td>\n      <td>88fdcaad-f73b-46a2-b561-d262f2441442</td>\n      <td>NaN</td>\n      <td>NaN</td>\n      <td>NaN</td>\n    </tr>\n    <tr>\n      <th>...</th>\n      <td>...</td>\n      <td>...</td>\n      <td>...</td>\n      <td>...</td>\n      <td>...</td>\n      <td>...</td>\n      <td>...</td>\n      <td>...</td>\n      <td>...</td>\n      <td>...</td>\n    </tr>\n    <tr>\n      <th>3465554</th>\n      <td>3518462</td>\n      <td>404560</td>\n      <td>1645519933345</td>\n      <td>TASK</td>\n      <td>SUBMIT_ANSWER</td>\n      <td>CLICK</td>\n      <td>9edfed2d-ebe8-4b0e-873c-9ba13e6541b3</td>\n      <td>112259.0</td>\n      <td>NaN</td>\n      <td>CORRECT</td>\n    </tr>\n    <tr>\n      <th>3465555</th>\n      <td>3518463</td>\n      <td>404560</td>\n      <td>1645519934803</td>\n      <td>TASK</td>\n      <td>NEXT</td>\n      <td>CLICK</td>\n      <td>9edfed2d-ebe8-4b0e-873c-9ba13e6541b3</td>\n      <td>112259.0</td>\n      <td>NaN</td>\n      <td>CORRECT</td>\n    </tr>\n    <tr>\n      <th>3465556</th>\n      <td>3518464</td>\n      <td>404560</td>\n      <td>1645519935451</td>\n      <td>SESSION</td>\n      <td>REVIEW_TASK</td>\n      <td>VIEW</td>\n      <td>133248bc-5771-4240-94c2-77b23b7c2d97</td>\n      <td>112259.0</td>\n      <td>NaN</td>\n      <td>NaN</td>\n    </tr>\n    <tr>\n      <th>3465557</th>\n      <td>3518465</td>\n      <td>404552</td>\n      <td>1645519936842</td>\n      <td>USER_SESSION</td>\n      <td>WINDOW_VISIBLE_TRUE</td>\n      <td>VIEW</td>\n      <td>NaN</td>\n      <td>NaN</td>\n      <td>{\"location\": \"https://app.lernnavi.ch/session/...</td>\n      <td>NaN</td>\n    </tr>\n    <tr>\n      <th>3465558</th>\n      <td>3518466</td>\n      <td>404551</td>\n      <td>1645519936855</td>\n      <td>TASK</td>\n      <td>SUBMIT_ANSWER</td>\n      <td>CLICK</td>\n      <td>a9f626bc-184f-4e35-a466-110f26d042c4</td>\n      <td>112240.0</td>\n      <td>NaN</td>\n      <td>WRONG</td>\n    </tr>\n  </tbody>\n</table>\n<p>3465559 rows × 10 columns</p>\n</div>"
     },
     "execution_count": 23,
     "metadata": {},
     "output_type": "execute_result"
    }
   ],
   "source": [
    "# Your code for building the data frame here\n",
    "events_with_eval = pd.merge(events, transactions[['transaction_token', 'evaluation']],\n",
    "                            left_on='transaction_token', right_on='transaction_token', how='left')\n",
    "\n",
    "events_with_eval"
   ]
  },
  {
   "cell_type": "code",
   "execution_count": 24,
   "outputs": [
    {
     "data": {
      "text/plain": "       user_id  gender  num_questions\n0       387604     NaN             97\n1       387605     NaN            217\n2       387608     NaN             54\n3       387615    MALE             15\n4       387643     NaN              0\n...        ...     ...            ...\n10108   404600     NaN              1\n10109   404603  FEMALE             13\n10110   404604  FEMALE              4\n10111   404605  FEMALE              0\n10112   404623    MALE              0\n\n[10113 rows x 3 columns]",
      "text/html": "<div>\n<style scoped>\n    .dataframe tbody tr th:only-of-type {\n        vertical-align: middle;\n    }\n\n    .dataframe tbody tr th {\n        vertical-align: top;\n    }\n\n    .dataframe thead th {\n        text-align: right;\n    }\n</style>\n<table border=\"1\" class=\"dataframe\">\n  <thead>\n    <tr style=\"text-align: right;\">\n      <th></th>\n      <th>user_id</th>\n      <th>gender</th>\n      <th>num_questions</th>\n    </tr>\n  </thead>\n  <tbody>\n    <tr>\n      <th>0</th>\n      <td>387604</td>\n      <td>NaN</td>\n      <td>97</td>\n    </tr>\n    <tr>\n      <th>1</th>\n      <td>387605</td>\n      <td>NaN</td>\n      <td>217</td>\n    </tr>\n    <tr>\n      <th>2</th>\n      <td>387608</td>\n      <td>NaN</td>\n      <td>54</td>\n    </tr>\n    <tr>\n      <th>3</th>\n      <td>387615</td>\n      <td>MALE</td>\n      <td>15</td>\n    </tr>\n    <tr>\n      <th>4</th>\n      <td>387643</td>\n      <td>NaN</td>\n      <td>0</td>\n    </tr>\n    <tr>\n      <th>...</th>\n      <td>...</td>\n      <td>...</td>\n      <td>...</td>\n    </tr>\n    <tr>\n      <th>10108</th>\n      <td>404600</td>\n      <td>NaN</td>\n      <td>1</td>\n    </tr>\n    <tr>\n      <th>10109</th>\n      <td>404603</td>\n      <td>FEMALE</td>\n      <td>13</td>\n    </tr>\n    <tr>\n      <th>10110</th>\n      <td>404604</td>\n      <td>FEMALE</td>\n      <td>4</td>\n    </tr>\n    <tr>\n      <th>10111</th>\n      <td>404605</td>\n      <td>FEMALE</td>\n      <td>0</td>\n    </tr>\n    <tr>\n      <th>10112</th>\n      <td>404623</td>\n      <td>MALE</td>\n      <td>0</td>\n    </tr>\n  </tbody>\n</table>\n<p>10113 rows × 3 columns</p>\n</div>"
     },
     "execution_count": 24,
     "metadata": {},
     "output_type": "execute_result"
    }
   ],
   "source": [
    "user_gender = users[['user_id', 'gender']]\n",
    "users_events = events_with_eval.groupby('user_id')\n",
    "user_num_questions = users_events.apply(lambda x: len(x[x['action'] == 'SUBMIT_ANSWER']))\n",
    "user_num_questions = user_num_questions.reset_index(name='num_questions')\n",
    "user_stats = pd.merge(user_gender, user_num_questions, on='user_id', how='right')\n",
    "user_stats"
   ],
   "metadata": {
    "collapsed": false,
    "pycharm": {
     "name": "#%%\n"
    }
   }
  },
  {
   "cell_type": "code",
   "execution_count": 25,
   "outputs": [
    {
     "data": {
      "text/plain": "       user_id  gender  num_questions  num_events\n0       387604     NaN             97        2606\n1       387605     NaN            217        3331\n2       387608     NaN             54         866\n3       387615    MALE             15         492\n4       387643     NaN              0           4\n...        ...     ...            ...         ...\n10108   404600     NaN              1          34\n10109   404603  FEMALE             13         112\n10110   404604  FEMALE              4          43\n10111   404605  FEMALE              0          22\n10112   404623    MALE              0          37\n\n[10113 rows x 4 columns]",
      "text/html": "<div>\n<style scoped>\n    .dataframe tbody tr th:only-of-type {\n        vertical-align: middle;\n    }\n\n    .dataframe tbody tr th {\n        vertical-align: top;\n    }\n\n    .dataframe thead th {\n        text-align: right;\n    }\n</style>\n<table border=\"1\" class=\"dataframe\">\n  <thead>\n    <tr style=\"text-align: right;\">\n      <th></th>\n      <th>user_id</th>\n      <th>gender</th>\n      <th>num_questions</th>\n      <th>num_events</th>\n    </tr>\n  </thead>\n  <tbody>\n    <tr>\n      <th>0</th>\n      <td>387604</td>\n      <td>NaN</td>\n      <td>97</td>\n      <td>2606</td>\n    </tr>\n    <tr>\n      <th>1</th>\n      <td>387605</td>\n      <td>NaN</td>\n      <td>217</td>\n      <td>3331</td>\n    </tr>\n    <tr>\n      <th>2</th>\n      <td>387608</td>\n      <td>NaN</td>\n      <td>54</td>\n      <td>866</td>\n    </tr>\n    <tr>\n      <th>3</th>\n      <td>387615</td>\n      <td>MALE</td>\n      <td>15</td>\n      <td>492</td>\n    </tr>\n    <tr>\n      <th>4</th>\n      <td>387643</td>\n      <td>NaN</td>\n      <td>0</td>\n      <td>4</td>\n    </tr>\n    <tr>\n      <th>...</th>\n      <td>...</td>\n      <td>...</td>\n      <td>...</td>\n      <td>...</td>\n    </tr>\n    <tr>\n      <th>10108</th>\n      <td>404600</td>\n      <td>NaN</td>\n      <td>1</td>\n      <td>34</td>\n    </tr>\n    <tr>\n      <th>10109</th>\n      <td>404603</td>\n      <td>FEMALE</td>\n      <td>13</td>\n      <td>112</td>\n    </tr>\n    <tr>\n      <th>10110</th>\n      <td>404604</td>\n      <td>FEMALE</td>\n      <td>4</td>\n      <td>43</td>\n    </tr>\n    <tr>\n      <th>10111</th>\n      <td>404605</td>\n      <td>FEMALE</td>\n      <td>0</td>\n      <td>22</td>\n    </tr>\n    <tr>\n      <th>10112</th>\n      <td>404623</td>\n      <td>MALE</td>\n      <td>0</td>\n      <td>37</td>\n    </tr>\n  </tbody>\n</table>\n<p>10113 rows × 4 columns</p>\n</div>"
     },
     "execution_count": 25,
     "metadata": {},
     "output_type": "execute_result"
    }
   ],
   "source": [
    "user_stats = user_stats.merge(users_events.apply(len).reset_index(name='num_events'), on='user_id')\n",
    "user_stats"
   ],
   "metadata": {
    "collapsed": false,
    "pycharm": {
     "name": "#%%\n"
    }
   }
  },
  {
   "cell_type": "code",
   "execution_count": 26,
   "outputs": [
    {
     "data": {
      "text/plain": "       user_id  gender  num_questions  num_events  percentage_correct\n0       387604     NaN             97        2606            0.026094\n1       387605     NaN            217        3331            0.066947\n2       387608     NaN             54         866            0.122402\n3       387615    MALE             15         492            0.075203\n4       387643     NaN              0           4            0.000000\n...        ...     ...            ...         ...                 ...\n10108   404600     NaN              1          34            0.000000\n10109   404603  FEMALE             13         112            0.160714\n10110   404604  FEMALE              4          43            0.000000\n10111   404605  FEMALE              0          22            0.000000\n10112   404623    MALE              0          37            0.000000\n\n[10113 rows x 5 columns]",
      "text/html": "<div>\n<style scoped>\n    .dataframe tbody tr th:only-of-type {\n        vertical-align: middle;\n    }\n\n    .dataframe tbody tr th {\n        vertical-align: top;\n    }\n\n    .dataframe thead th {\n        text-align: right;\n    }\n</style>\n<table border=\"1\" class=\"dataframe\">\n  <thead>\n    <tr style=\"text-align: right;\">\n      <th></th>\n      <th>user_id</th>\n      <th>gender</th>\n      <th>num_questions</th>\n      <th>num_events</th>\n      <th>percentage_correct</th>\n    </tr>\n  </thead>\n  <tbody>\n    <tr>\n      <th>0</th>\n      <td>387604</td>\n      <td>NaN</td>\n      <td>97</td>\n      <td>2606</td>\n      <td>0.026094</td>\n    </tr>\n    <tr>\n      <th>1</th>\n      <td>387605</td>\n      <td>NaN</td>\n      <td>217</td>\n      <td>3331</td>\n      <td>0.066947</td>\n    </tr>\n    <tr>\n      <th>2</th>\n      <td>387608</td>\n      <td>NaN</td>\n      <td>54</td>\n      <td>866</td>\n      <td>0.122402</td>\n    </tr>\n    <tr>\n      <th>3</th>\n      <td>387615</td>\n      <td>MALE</td>\n      <td>15</td>\n      <td>492</td>\n      <td>0.075203</td>\n    </tr>\n    <tr>\n      <th>4</th>\n      <td>387643</td>\n      <td>NaN</td>\n      <td>0</td>\n      <td>4</td>\n      <td>0.000000</td>\n    </tr>\n    <tr>\n      <th>...</th>\n      <td>...</td>\n      <td>...</td>\n      <td>...</td>\n      <td>...</td>\n      <td>...</td>\n    </tr>\n    <tr>\n      <th>10108</th>\n      <td>404600</td>\n      <td>NaN</td>\n      <td>1</td>\n      <td>34</td>\n      <td>0.000000</td>\n    </tr>\n    <tr>\n      <th>10109</th>\n      <td>404603</td>\n      <td>FEMALE</td>\n      <td>13</td>\n      <td>112</td>\n      <td>0.160714</td>\n    </tr>\n    <tr>\n      <th>10110</th>\n      <td>404604</td>\n      <td>FEMALE</td>\n      <td>4</td>\n      <td>43</td>\n      <td>0.000000</td>\n    </tr>\n    <tr>\n      <th>10111</th>\n      <td>404605</td>\n      <td>FEMALE</td>\n      <td>0</td>\n      <td>22</td>\n      <td>0.000000</td>\n    </tr>\n    <tr>\n      <th>10112</th>\n      <td>404623</td>\n      <td>MALE</td>\n      <td>0</td>\n      <td>37</td>\n      <td>0.000000</td>\n    </tr>\n  </tbody>\n</table>\n<p>10113 rows × 5 columns</p>\n</div>"
     },
     "execution_count": 26,
     "metadata": {},
     "output_type": "execute_result"
    }
   ],
   "source": [
    "percentage_correct = users_events.apply(lambda x: len(x[x['evaluation'] == 'CORRECT']) / len(x[x['evaluation'] != np.nan]))\n",
    "user_stats = user_stats.merge(percentage_correct.reset_index(name='percentage_correct'), on='user_id')\n",
    "user_stats"
   ],
   "metadata": {
    "collapsed": false,
    "pycharm": {
     "name": "#%%\n"
    }
   }
  },
  {
   "cell_type": "code",
   "execution_count": 27,
   "outputs": [
    {
     "data": {
      "text/plain": "       user_id  gender  num_questions  num_events  percentage_correct  \\\n0       387604     NaN             97        2606            0.026094   \n1       387605     NaN            217        3331            0.066947   \n2       387608     NaN             54         866            0.122402   \n3       387615    MALE             15         492            0.075203   \n4       387643     NaN              0           4            0.000000   \n...        ...     ...            ...         ...                 ...   \n10108   404600     NaN              1          34            0.000000   \n10109   404603  FEMALE             13         112            0.160714   \n10110   404604  FEMALE              4          43            0.000000   \n10111   404605  FEMALE              0          22            0.000000   \n10112   404623    MALE              0          37            0.000000   \n\n       num_reading  \n0              368  \n1               33  \n2               23  \n3               10  \n4                0  \n...            ...  \n10108            0  \n10109            0  \n10110            0  \n10111            0  \n10112            5  \n\n[10113 rows x 6 columns]",
      "text/html": "<div>\n<style scoped>\n    .dataframe tbody tr th:only-of-type {\n        vertical-align: middle;\n    }\n\n    .dataframe tbody tr th {\n        vertical-align: top;\n    }\n\n    .dataframe thead th {\n        text-align: right;\n    }\n</style>\n<table border=\"1\" class=\"dataframe\">\n  <thead>\n    <tr style=\"text-align: right;\">\n      <th></th>\n      <th>user_id</th>\n      <th>gender</th>\n      <th>num_questions</th>\n      <th>num_events</th>\n      <th>percentage_correct</th>\n      <th>num_reading</th>\n    </tr>\n  </thead>\n  <tbody>\n    <tr>\n      <th>0</th>\n      <td>387604</td>\n      <td>NaN</td>\n      <td>97</td>\n      <td>2606</td>\n      <td>0.026094</td>\n      <td>368</td>\n    </tr>\n    <tr>\n      <th>1</th>\n      <td>387605</td>\n      <td>NaN</td>\n      <td>217</td>\n      <td>3331</td>\n      <td>0.066947</td>\n      <td>33</td>\n    </tr>\n    <tr>\n      <th>2</th>\n      <td>387608</td>\n      <td>NaN</td>\n      <td>54</td>\n      <td>866</td>\n      <td>0.122402</td>\n      <td>23</td>\n    </tr>\n    <tr>\n      <th>3</th>\n      <td>387615</td>\n      <td>MALE</td>\n      <td>15</td>\n      <td>492</td>\n      <td>0.075203</td>\n      <td>10</td>\n    </tr>\n    <tr>\n      <th>4</th>\n      <td>387643</td>\n      <td>NaN</td>\n      <td>0</td>\n      <td>4</td>\n      <td>0.000000</td>\n      <td>0</td>\n    </tr>\n    <tr>\n      <th>...</th>\n      <td>...</td>\n      <td>...</td>\n      <td>...</td>\n      <td>...</td>\n      <td>...</td>\n      <td>...</td>\n    </tr>\n    <tr>\n      <th>10108</th>\n      <td>404600</td>\n      <td>NaN</td>\n      <td>1</td>\n      <td>34</td>\n      <td>0.000000</td>\n      <td>0</td>\n    </tr>\n    <tr>\n      <th>10109</th>\n      <td>404603</td>\n      <td>FEMALE</td>\n      <td>13</td>\n      <td>112</td>\n      <td>0.160714</td>\n      <td>0</td>\n    </tr>\n    <tr>\n      <th>10110</th>\n      <td>404604</td>\n      <td>FEMALE</td>\n      <td>4</td>\n      <td>43</td>\n      <td>0.000000</td>\n      <td>0</td>\n    </tr>\n    <tr>\n      <th>10111</th>\n      <td>404605</td>\n      <td>FEMALE</td>\n      <td>0</td>\n      <td>22</td>\n      <td>0.000000</td>\n      <td>0</td>\n    </tr>\n    <tr>\n      <th>10112</th>\n      <td>404623</td>\n      <td>MALE</td>\n      <td>0</td>\n      <td>37</td>\n      <td>0.000000</td>\n      <td>5</td>\n    </tr>\n  </tbody>\n</table>\n<p>10113 rows × 6 columns</p>\n</div>"
     },
     "execution_count": 27,
     "metadata": {},
     "output_type": "execute_result"
    }
   ],
   "source": [
    "num_reading = users_events.apply(lambda x: len(x[x['action'] == 'GO_TO_THEORY']))\n",
    "user_stats = user_stats.merge(num_reading.reset_index(name='num_reading'), on='user_id')\n",
    "user_stats"
   ],
   "metadata": {
    "collapsed": false,
    "pycharm": {
     "name": "#%%\n"
    }
   }
  },
  {
   "cell_type": "markdown",
   "id": "c7648e7d-45ff-40ef-8fc9-ccfba1ba7229",
   "metadata": {
    "id": "c7648e7d-45ff-40ef-8fc9-ccfba1ba7229"
   },
   "source": [
    "b) Perform a univariate analysis (including descriptive statistics and visualizations) for the five features (gender, num_events, num_questions, percentage_correct, num_reading) of your dataframe. Please check the lecture slides regarding information on how to perform a univariate analysis for categorical and numerical features. Discuss your results: how are the features distributed? Are there any anomalities?"
   ]
  },
  {
   "cell_type": "code",
   "execution_count": 42,
   "id": "e1d63e93-976a-4585-9675-8b0c3c7661d9",
   "metadata": {
    "id": "e1d63e93-976a-4585-9675-8b0c3c7661d9"
   },
   "outputs": [
    {
     "data": {
      "text/plain": "<AxesSubplot:>"
     },
     "execution_count": 42,
     "metadata": {},
     "output_type": "execute_result"
    },
    {
     "data": {
      "text/plain": "<Figure size 1008x432 with 2 Axes>",
      "image/png": "[encoded data removed]"
     },
     "metadata": {
      "needs_background": "light"
     },
     "output_type": "display_data"
    }
   ],
   "source": [
    "# Your code for univariate analysis her\n",
    "fig, axs = plt.subplots(1,2, figsize=(14, 6))\n",
    "axs = axs.flatten()\n",
    "user_stats.fillna('NONE', inplace=True)\n",
    "user_stats['gender'].value_counts().plot(kind='pie', ax=axs[0], autopct='%1.0f%%', fontsize=14)\n",
    "user_stats['gender'].value_counts().plot(kind='bar', ax=axs[1])"
   ]
  },
  {
   "cell_type": "code",
   "execution_count": 51,
   "outputs": [
    {
     "data": {
      "text/plain": "Text(0.5, 0.98, 'Distribution for all the numerical columns')"
     },
     "execution_count": 51,
     "metadata": {},
     "output_type": "execute_result"
    },
    {
     "data": {
      "text/plain": "<Figure size 864x720 with 4 Axes>",
      "image/png": "[encoded data removed]"
     },
     "metadata": {
      "needs_background": "light"
     },
     "output_type": "display_data"
    }
   ],
   "source": [
    "fig, axs = plt.subplots(2,2, figsize=(12, 10))\n",
    "axs = axs.flatten()\n",
    "for ax, col in zip(axs, user_stats.columns[2:]):\n",
    "    sns.histplot(user_stats[col], ax=ax, kde=True)\n",
    "fig.suptitle('Distribution for all the numerical columns')"
   ],
   "metadata": {
    "collapsed": false,
    "pycharm": {
     "name": "#%%\n"
    }
   }
  },
  {
   "cell_type": "markdown",
   "id": "da9e7a90-47b5-4c5c-8d3f-10e8c8078009",
   "metadata": {
    "id": "da9e7a90-47b5-4c5c-8d3f-10e8c8078009"
   },
   "source": [
    "*Your discussion/interpretation goes here*"
   ]
  },
  {
   "cell_type": "markdown",
   "id": "e5d52cd8-9927-401b-a3c3-a4ab2e46b445",
   "metadata": {
    "id": "e5d52cd8-9927-401b-a3c3-a4ab2e46b445"
   },
   "source": [
    "c) Come up with two additional features on your own and add them to the dataframe. Please provide an explanation/description of your features as well as an argument/hypothesis of why you think these features are interesting to explore."
   ]
  },
  {
   "cell_type": "code",
   "execution_count": 53,
   "id": "0b374606-91f5-45b0-bb31-03d494fa5c69",
   "metadata": {
    "id": "0b374606-91f5-45b0-bb31-03d494fa5c69"
   },
   "outputs": [
    {
     "data": {
      "text/plain": "   transaction_id                     transaction_token   user_id  \\\n0         1061991  cf99b0d7-279a-4ae0-8ef3-a15514e350b6  387604.0   \n1         1066631  13e3086b-1c4e-4d28-87a3-0582ccf495c6  387604.0   \n2         1011975  6f292166-86bd-4ec9-81e8-22e9033d571e  387604.0   \n3         1020790  79a7d731-a36b-4529-a11b-108b9f877a04  387604.0   \n4         1061970  a45b6464-371e-47f4-842c-34f9e345b4ec  387604.0   \n\n              document_id  document_version evaluation  \\\n0  111K3PY6sbr8ac1mRGpse1             87668        NaN   \n1  111K3PY6sbr8ac1mRGpse1             87668        NaN   \n2  111K3PY6sbr8ac1mRGpse1             87668    CORRECT   \n3  111K3PY6sbr8ac1mRGpse1             87668    CORRECT   \n4  111K3PY6sbr8ac1mRGpse1             87668    CORRECT   \n\n                                               input     start_time  \\\n0                                                NaN  1637146446763   \n1                                                NaN  1637233737283   \n2  {\"type\": \"MULTIPLE_CHOICE\", \"selections\": {\"0\"...  1636444658255   \n3  {\"type\": \"MULTIPLE_CHOICE\", \"selections\": {\"0\"...  1636561847705   \n4  {\"type\": \"MULTIPLE_CHOICE\", \"selections\": {\"0\"...  1637146373965   \n\n    commit_time                                         user_agent validation  \\\n0           NaN  Mozilla/5.0 (Windows NT 10.0; Win64; x64) Appl...        NaN   \n1           NaN  Mozilla/5.0 (Windows NT 10.0; Win64; x64) Appl...        NaN   \n2  1.636445e+12                                                NaN       PASS   \n3  1.636562e+12                                                NaN       PASS   \n4  1.637146e+12                                                NaN       PASS   \n\n                                            solution             type  \n0                                                NaN              NaN  \n1                                                NaN              NaN  \n2  {\"type\": \"MULTIPLE_CHOICE\", \"choices\": [{\"cont...  MULTIPLE_CHOICE  \n3  {\"type\": \"MULTIPLE_CHOICE\", \"choices\": [{\"cont...  MULTIPLE_CHOICE  \n4  {\"type\": \"MULTIPLE_CHOICE\", \"choices\": [{\"cont...  MULTIPLE_CHOICE  ",
      "text/html": "<div>\n<style scoped>\n    .dataframe tbody tr th:only-of-type {\n        vertical-align: middle;\n    }\n\n    .dataframe tbody tr th {\n        vertical-align: top;\n    }\n\n    .dataframe thead th {\n        text-align: right;\n    }\n</style>\n<table border=\"1\" class=\"dataframe\">\n  <thead>\n    <tr style=\"text-align: right;\">\n      <th></th>\n      <th>transaction_id</th>\n      <th>transaction_token</th>\n      <th>user_id</th>\n      <th>document_id</th>\n      <th>document_version</th>\n      <th>evaluation</th>\n      <th>input</th>\n      <th>start_time</th>\n      <th>commit_time</th>\n      <th>user_agent</th>\n      <th>validation</th>\n      <th>solution</th>\n      <th>type</th>\n    </tr>\n  </thead>\n  <tbody>\n    <tr>\n      <th>0</th>\n      <td>1061991</td>\n      <td>cf99b0d7-279a-4ae0-8ef3-a15514e350b6</td>\n      <td>387604.0</td>\n      <td>111K3PY6sbr8ac1mRGpse1</td>\n      <td>87668</td>\n      <td>NaN</td>\n      <td>NaN</td>\n      <td>1637146446763</td>\n      <td>NaN</td>\n      <td>Mozilla/5.0 (Windows NT 10.0; Win64; x64) Appl...</td>\n      <td>NaN</td>\n      <td>NaN</td>\n      <td>NaN</td>\n    </tr>\n    <tr>\n      <th>1</th>\n      <td>1066631</td>\n      <td>13e3086b-1c4e-4d28-87a3-0582ccf495c6</td>\n      <td>387604.0</td>\n      <td>111K3PY6sbr8ac1mRGpse1</td>\n      <td>87668</td>\n      <td>NaN</td>\n      <td>NaN</td>\n      <td>1637233737283</td>\n      <td>NaN</td>\n      <td>Mozilla/5.0 (Windows NT 10.0; Win64; x64) Appl...</td>\n      <td>NaN</td>\n      <td>NaN</td>\n      <td>NaN</td>\n    </tr>\n    <tr>\n      <th>2</th>\n      <td>1011975</td>\n      <td>6f292166-86bd-4ec9-81e8-22e9033d571e</td>\n      <td>387604.0</td>\n      <td>111K3PY6sbr8ac1mRGpse1</td>\n      <td>87668</td>\n      <td>CORRECT</td>\n      <td>{\"type\": \"MULTIPLE_CHOICE\", \"selections\": {\"0\"...</td>\n      <td>1636444658255</td>\n      <td>1.636445e+12</td>\n      <td>NaN</td>\n      <td>PASS</td>\n      <td>{\"type\": \"MULTIPLE_CHOICE\", \"choices\": [{\"cont...</td>\n      <td>MULTIPLE_CHOICE</td>\n    </tr>\n    <tr>\n      <th>3</th>\n      <td>1020790</td>\n      <td>79a7d731-a36b-4529-a11b-108b9f877a04</td>\n      <td>387604.0</td>\n      <td>111K3PY6sbr8ac1mRGpse1</td>\n      <td>87668</td>\n      <td>CORRECT</td>\n      <td>{\"type\": \"MULTIPLE_CHOICE\", \"selections\": {\"0\"...</td>\n      <td>1636561847705</td>\n      <td>1.636562e+12</td>\n      <td>NaN</td>\n      <td>PASS</td>\n      <td>{\"type\": \"MULTIPLE_CHOICE\", \"choices\": [{\"cont...</td>\n      <td>MULTIPLE_CHOICE</td>\n    </tr>\n    <tr>\n      <th>4</th>\n      <td>1061970</td>\n      <td>a45b6464-371e-47f4-842c-34f9e345b4ec</td>\n      <td>387604.0</td>\n      <td>111K3PY6sbr8ac1mRGpse1</td>\n      <td>87668</td>\n      <td>CORRECT</td>\n      <td>{\"type\": \"MULTIPLE_CHOICE\", \"selections\": {\"0\"...</td>\n      <td>1637146373965</td>\n      <td>1.637146e+12</td>\n      <td>NaN</td>\n      <td>PASS</td>\n      <td>{\"type\": \"MULTIPLE_CHOICE\", \"choices\": [{\"cont...</td>\n      <td>MULTIPLE_CHOICE</td>\n    </tr>\n  </tbody>\n</table>\n</div>"
     },
     "execution_count": 53,
     "metadata": {},
     "output_type": "execute_result"
    }
   ],
   "source": [
    "# Your code for computing the features and adding them to the df goes here\n",
    "transactions.head()"
   ]
  },
  {
   "cell_type": "code",
   "execution_count": 73,
   "outputs": [
    {
     "data": {
      "text/plain": "       user_id  gender  num_questions  num_events  percentage_correct  \\\n0       387604    NONE             97        2606            0.026094   \n1       387605    NONE            217        3331            0.066947   \n2       387608    NONE             54         866            0.122402   \n3       387615    MALE             15         492            0.075203   \n4       387643    NONE              0           4            0.000000   \n...        ...     ...            ...         ...                 ...   \n10108   404600    NONE              1          34            0.000000   \n10109   404603  FEMALE             13         112            0.160714   \n10110   404604  FEMALE              4          43            0.000000   \n10111   404605  FEMALE              0          22            0.000000   \n10112   404623    MALE              0          37            0.000000   \n\n       num_reading  avg_spend_time(s)  \n0              368       1.359456e+05  \n1               33       1.889972e+04  \n2               23       6.886931e+01  \n3               10       2.091188e+06  \n4                0                NaN  \n...            ...                ...  \n10108            0                NaN  \n10109            0       2.322083e+01  \n10110            0       7.470501e+02  \n10111            0                NaN  \n10112            5                NaN  \n\n[10113 rows x 7 columns]",
      "text/html": "<div>\n<style scoped>\n    .dataframe tbody tr th:only-of-type {\n        vertical-align: middle;\n    }\n\n    .dataframe tbody tr th {\n        vertical-align: top;\n    }\n\n    .dataframe thead th {\n        text-align: right;\n    }\n</style>\n<table border=\"1\" class=\"dataframe\">\n  <thead>\n    <tr style=\"text-align: right;\">\n      <th></th>\n      <th>user_id</th>\n      <th>gender</th>\n      <th>num_questions</th>\n      <th>num_events</th>\n      <th>percentage_correct</th>\n      <th>num_reading</th>\n      <th>avg_spend_time(s)</th>\n    </tr>\n  </thead>\n  <tbody>\n    <tr>\n      <th>0</th>\n      <td>387604</td>\n      <td>NONE</td>\n      <td>97</td>\n      <td>2606</td>\n      <td>0.026094</td>\n      <td>368</td>\n      <td>1.359456e+05</td>\n    </tr>\n    <tr>\n      <th>1</th>\n      <td>387605</td>\n      <td>NONE</td>\n      <td>217</td>\n      <td>3331</td>\n      <td>0.066947</td>\n      <td>33</td>\n      <td>1.889972e+04</td>\n    </tr>\n    <tr>\n      <th>2</th>\n      <td>387608</td>\n      <td>NONE</td>\n      <td>54</td>\n      <td>866</td>\n      <td>0.122402</td>\n      <td>23</td>\n      <td>6.886931e+01</td>\n    </tr>\n    <tr>\n      <th>3</th>\n      <td>387615</td>\n      <td>MALE</td>\n      <td>15</td>\n      <td>492</td>\n      <td>0.075203</td>\n      <td>10</td>\n      <td>2.091188e+06</td>\n    </tr>\n    <tr>\n      <th>4</th>\n      <td>387643</td>\n      <td>NONE</td>\n      <td>0</td>\n      <td>4</td>\n      <td>0.000000</td>\n      <td>0</td>\n      <td>NaN</td>\n    </tr>\n    <tr>\n      <th>...</th>\n      <td>...</td>\n      <td>...</td>\n      <td>...</td>\n      <td>...</td>\n      <td>...</td>\n      <td>...</td>\n      <td>...</td>\n    </tr>\n    <tr>\n      <th>10108</th>\n      <td>404600</td>\n      <td>NONE</td>\n      <td>1</td>\n      <td>34</td>\n      <td>0.000000</td>\n      <td>0</td>\n      <td>NaN</td>\n    </tr>\n    <tr>\n      <th>10109</th>\n      <td>404603</td>\n      <td>FEMALE</td>\n      <td>13</td>\n      <td>112</td>\n      <td>0.160714</td>\n      <td>0</td>\n      <td>2.322083e+01</td>\n    </tr>\n    <tr>\n      <th>10110</th>\n      <td>404604</td>\n      <td>FEMALE</td>\n      <td>4</td>\n      <td>43</td>\n      <td>0.000000</td>\n      <td>0</td>\n      <td>7.470501e+02</td>\n    </tr>\n    <tr>\n      <th>10111</th>\n      <td>404605</td>\n      <td>FEMALE</td>\n      <td>0</td>\n      <td>22</td>\n      <td>0.000000</td>\n      <td>0</td>\n      <td>NaN</td>\n    </tr>\n    <tr>\n      <th>10112</th>\n      <td>404623</td>\n      <td>MALE</td>\n      <td>0</td>\n      <td>37</td>\n      <td>0.000000</td>\n      <td>5</td>\n      <td>NaN</td>\n    </tr>\n  </tbody>\n</table>\n<p>10113 rows × 7 columns</p>\n</div>"
     },
     "execution_count": 73,
     "metadata": {},
     "output_type": "execute_result"
    }
   ],
   "source": [
    "answer_spend_time = transactions['commit_time'] - transactions['start_time']\n",
    "transactions['answer_spend_time'] = pd.to_timedelta(answer_spend_time, unit='ms').dt.total_seconds()\n",
    "user_answer_spend_time = pd.merge(events[['transaction_token', 'user_id']], transactions[['transaction_token', 'answer_spend_time']],\n",
    "                            left_on='transaction_token', right_on='transaction_token', how='left')\n",
    "\n",
    "user_answer_spend_time = user_answer_spend_time.groupby('user_id').agg('mean')\n",
    "user_answer_spend_time = user_answer_spend_time.reset_index().rename(columns={'answer_spend_time' : 'avg_spend_time(s)'})\n",
    "user_stats = pd.merge(user_stats, user_answer_spend_time[['user_id', 'avg_spend_time(s)']], on='user_id', how='left')\n",
    "user_stats"
   ],
   "metadata": {
    "collapsed": false,
    "pycharm": {
     "name": "#%%\n"
    }
   }
  },
  {
   "cell_type": "code",
   "execution_count": 76,
   "outputs": [
    {
     "data": {
      "text/plain": "count    7.834000e+03\nmean     5.174117e+04\nstd      5.553840e+05\nmin      1.437000e+00\n25%      5.454934e+01\n50%      9.881715e+01\n75%      4.729244e+02\nmax      2.463799e+07\nName: avg_spend_time(s), dtype: float64"
     },
     "execution_count": 76,
     "metadata": {},
     "output_type": "execute_result"
    }
   ],
   "source": [
    "user_stats['avg_spend_time(s)'].describe()"
   ],
   "metadata": {
    "collapsed": false,
    "pycharm": {
     "name": "#%%\n"
    }
   }
  },
  {
   "cell_type": "code",
   "execution_count": 91,
   "outputs": [
    {
     "data": {
      "text/plain": "       user_id  gender  num_questions  num_events  percentage_correct  \\\n0       387604    NONE             97        2606            0.026094   \n1       387605    NONE            217        3331            0.066947   \n2       387608    NONE             54         866            0.122402   \n3       387615    MALE             15         492            0.075203   \n4       387643    NONE              0           4            0.000000   \n...        ...     ...            ...         ...                 ...   \n10108   404600    NONE              1          34            0.000000   \n10109   404603  FEMALE             13         112            0.160714   \n10110   404604  FEMALE              4          43            0.000000   \n10111   404605  FEMALE              0          22            0.000000   \n10112   404623    MALE              0          37            0.000000   \n\n       num_reading  avg_spend_time(s)  num_study_days  \n0              368       1.359456e+05              54  \n1               33       1.889972e+04              43  \n2               23       6.886931e+01              32  \n3               10       2.091188e+06               9  \n4                0                NaN               1  \n...            ...                ...             ...  \n10108            0                NaN               1  \n10109            0       2.322083e+01               1  \n10110            0       7.470501e+02               1  \n10111            0                NaN               1  \n10112            5                NaN               1  \n\n[10113 rows x 8 columns]",
      "text/html": "<div>\n<style scoped>\n    .dataframe tbody tr th:only-of-type {\n        vertical-align: middle;\n    }\n\n    .dataframe tbody tr th {\n        vertical-align: top;\n    }\n\n    .dataframe thead th {\n        text-align: right;\n    }\n</style>\n<table border=\"1\" class=\"dataframe\">\n  <thead>\n    <tr style=\"text-align: right;\">\n      <th></th>\n      <th>user_id</th>\n      <th>gender</th>\n      <th>num_questions</th>\n      <th>num_events</th>\n      <th>percentage_correct</th>\n      <th>num_reading</th>\n      <th>avg_spend_time(s)</th>\n      <th>num_study_days</th>\n    </tr>\n  </thead>\n  <tbody>\n    <tr>\n      <th>0</th>\n      <td>387604</td>\n      <td>NONE</td>\n      <td>97</td>\n      <td>2606</td>\n      <td>0.026094</td>\n      <td>368</td>\n      <td>1.359456e+05</td>\n      <td>54</td>\n    </tr>\n    <tr>\n      <th>1</th>\n      <td>387605</td>\n      <td>NONE</td>\n      <td>217</td>\n      <td>3331</td>\n      <td>0.066947</td>\n      <td>33</td>\n      <td>1.889972e+04</td>\n      <td>43</td>\n    </tr>\n    <tr>\n      <th>2</th>\n      <td>387608</td>\n      <td>NONE</td>\n      <td>54</td>\n      <td>866</td>\n      <td>0.122402</td>\n      <td>23</td>\n      <td>6.886931e+01</td>\n      <td>32</td>\n    </tr>\n    <tr>\n      <th>3</th>\n      <td>387615</td>\n      <td>MALE</td>\n      <td>15</td>\n      <td>492</td>\n      <td>0.075203</td>\n      <td>10</td>\n      <td>2.091188e+06</td>\n      <td>9</td>\n    </tr>\n    <tr>\n      <th>4</th>\n      <td>387643</td>\n      <td>NONE</td>\n      <td>0</td>\n      <td>4</td>\n      <td>0.000000</td>\n      <td>0</td>\n      <td>NaN</td>\n      <td>1</td>\n    </tr>\n    <tr>\n      <th>...</th>\n      <td>...</td>\n      <td>...</td>\n      <td>...</td>\n      <td>...</td>\n      <td>...</td>\n      <td>...</td>\n      <td>...</td>\n      <td>...</td>\n    </tr>\n    <tr>\n      <th>10108</th>\n      <td>404600</td>\n      <td>NONE</td>\n      <td>1</td>\n      <td>34</td>\n      <td>0.000000</td>\n      <td>0</td>\n      <td>NaN</td>\n      <td>1</td>\n    </tr>\n    <tr>\n      <th>10109</th>\n      <td>404603</td>\n      <td>FEMALE</td>\n      <td>13</td>\n      <td>112</td>\n      <td>0.160714</td>\n      <td>0</td>\n      <td>2.322083e+01</td>\n      <td>1</td>\n    </tr>\n    <tr>\n      <th>10110</th>\n      <td>404604</td>\n      <td>FEMALE</td>\n      <td>4</td>\n      <td>43</td>\n      <td>0.000000</td>\n      <td>0</td>\n      <td>7.470501e+02</td>\n      <td>1</td>\n    </tr>\n    <tr>\n      <th>10111</th>\n      <td>404605</td>\n      <td>FEMALE</td>\n      <td>0</td>\n      <td>22</td>\n      <td>0.000000</td>\n      <td>0</td>\n      <td>NaN</td>\n      <td>1</td>\n    </tr>\n    <tr>\n      <th>10112</th>\n      <td>404623</td>\n      <td>MALE</td>\n      <td>0</td>\n      <td>37</td>\n      <td>0.000000</td>\n      <td>5</td>\n      <td>NaN</td>\n      <td>1</td>\n    </tr>\n  </tbody>\n</table>\n<p>10113 rows × 8 columns</p>\n</div>"
     },
     "execution_count": 91,
     "metadata": {},
     "output_type": "execute_result"
    }
   ],
   "source": [
    "def user_duration(x):\n",
    "    duration = x['timestamp'].max() - x['timestamp'].min()\n",
    "    duration = pd.to_timedelta(duration, unit='ms').days\n",
    "    return duration\n",
    "\n",
    "def user_study_day(x):\n",
    "    duration = pd.to_datetime(x['timestamp'], unit='ms').dt.strftime('%Y-%m-%d')\n",
    "\n",
    "    return duration.nunique()\n",
    "\n",
    "\n",
    "user_stats = user_stats.merge(users_events.apply(user_study_day).reset_index(name='num_study_days'), on='user_id', how='left')\n",
    "user_stats"
   ],
   "metadata": {
    "collapsed": false,
    "pycharm": {
     "name": "#%%\n"
    }
   }
  },
  {
   "cell_type": "code",
   "execution_count": 94,
   "outputs": [
    {
     "data": {
      "text/plain": "<AxesSubplot:ylabel='Frequency'>"
     },
     "execution_count": 94,
     "metadata": {},
     "output_type": "execute_result"
    },
    {
     "data": {
      "text/plain": "<Figure size 432x288 with 1 Axes>",
      "image/png": "[encoded data removed]"
     },
     "metadata": {
      "needs_background": "light"
     },
     "output_type": "display_data"
    }
   ],
   "source": [
    "user_stats['num_study_days'].plot(kind='hist', logy=True)"
   ],
   "metadata": {
    "collapsed": false,
    "pycharm": {
     "name": "#%%\n"
    }
   }
  },
  {
   "cell_type": "markdown",
   "id": "6ae3bd87-8ca4-47a2-afc5-604e6ca53621",
   "metadata": {
    "id": "6ae3bd87-8ca4-47a2-afc5-604e6ca53621"
   },
   "source": [
    "\n",
    "*Your feature descriptions and arguments/hypotheses go here*"
   ]
  },
  {
   "cell_type": "markdown",
   "id": "be9b49ce-5fb6-4b95-9b64-8a6648e42474",
   "metadata": {
    "id": "be9b49ce-5fb6-4b95-9b64-8a6648e42474"
   },
   "source": [
    "d) Perform a univariate analysis of your features (including descriptive statistics and visualization). What can you observe? Do the results confirm your hypotheses?"
   ]
  },
  {
   "cell_type": "code",
   "execution_count": null,
   "id": "bf5136a1-4715-4bd6-a94a-1998ffb2dcc7",
   "metadata": {
    "id": "bf5136a1-4715-4bd6-a94a-1998ffb2dcc7"
   },
   "outputs": [],
   "source": [
    "# Your code for univariate analysis goes here"
   ]
  },
  {
   "cell_type": "markdown",
   "id": "791e6635-e2ef-4790-b585-a8907123bed8",
   "metadata": {
    "id": "791e6635-e2ef-4790-b585-a8907123bed8"
   },
   "source": [
    "*Your discussion/interpretation goes here*"
   ]
  },
  {
   "cell_type": "markdown",
   "id": "1596debf-793b-4d94-a0eb-4fc42a1f962d",
   "metadata": {
    "id": "1596debf-793b-4d94-a0eb-4fc42a1f962d"
   },
   "source": [
    "e) Perform a multivariate analysis for two pairs of features of your choice. Please provide a metric and a visualization for both pairs. Please discuss: why did you choose these two pairs? What was your hypothesis? Do the results confirm your hypothesis?"
   ]
  },
  {
   "cell_type": "code",
   "execution_count": null,
   "id": "9b5947ca-1c39-4aec-8fa9-22dba757ef27",
   "metadata": {
    "id": "9b5947ca-1c39-4aec-8fa9-22dba757ef27"
   },
   "outputs": [],
   "source": [
    "# Your code for multivariate analysis goes here"
   ]
  },
  {
   "cell_type": "markdown",
   "id": "9c9e9e56-f589-49d4-8cd4-07855bc6c5c0",
   "metadata": {
    "id": "9c9e9e56-f589-49d4-8cd4-07855bc6c5c0"
   },
   "source": [
    "*Your discussion/interpretation goes here*"
   ]
  },
  {
   "cell_type": "markdown",
   "id": "62ef2063-f2b2-4a0b-92a6-1e03e9e6e548",
   "metadata": {
    "id": "62ef2063-f2b2-4a0b-92a6-1e03e9e6e548"
   },
   "source": [
    "# Task 3: Time-Series Analysis\n",
    "\n",
    "In the last task, you will perform a time-series analysis."
   ]
  },
  {
   "cell_type": "markdown",
   "id": "1a986033-693c-4db0-8b27-c638b4bf6248",
   "metadata": {
    "id": "1a986033-693c-4db0-8b27-c638b4bf6248"
   },
   "source": [
    "\n",
    "#### a) Build a data frame containing one row per user per week:\n",
    "\n",
    "``[user_id, week, num_events, num_questions, percentage_correct, num_reading]``\n",
    "\n",
    "\n",
    "The features are defined as follows:\n",
    "\n",
    "- **num_questions**: total number of questions the student answered **per week**(hint: action event = submit answer).\n",
    "\n",
    "- **num_events**: total number of events of the student per week.\n",
    "\n",
    "- **percentage_correct**: number of correct answers/total number of answers  **per week** (hint: evaluation = correct). If desired, you may assign a weight of 0.5 to partially correct answers.\n",
    "\n",
    "- **num_reading**: total number of theory reading events **per week** (hint: action event = go to theory).\n",
    "\n",
    "Where week 0 is the first week the specific user solved a task in the platform, i.e., the user's earliest entry in the transactions table.\n",
    "\n",
    "Hint: You may extract the week of the year (dt.week) from the timestamps. "
   ]
  },
  {
   "cell_type": "markdown",
   "id": "549820bd-d886-433f-8055-52f40e3381ad",
   "metadata": {
    "id": "549820bd-d886-433f-8055-52f40e3381ad"
   },
   "source": [
    "You can limit the number of weeks to 13, i.e. for each user we just look at the first 13 weeks of data.\n",
    "Yoy may change and justify your choice for the number of weeks."
   ]
  },
  {
   "cell_type": "code",
   "execution_count": 18,
   "id": "a92e54ac-3990-4d97-bd57-75c81534b36d",
   "metadata": {
    "id": "a92e54ac-3990-4d97-bd57-75c81534b36d"
   },
   "outputs": [
    {
     "data": {
      "text/plain": "         event_id  user_id      timestamp      category               action  \\\n0              62   393211  1621583814885          TASK        VIEW_QUESTION   \n1              63   393211  1621583898912          TASK        SUBMIT_ANSWER   \n2              64   393211  1621583907207          TASK                 NEXT   \n3              65   393211  1621583907589          TASK        VIEW_QUESTION   \n4              66   393211  1621584222588          TASK        SUBMIT_ANSWER   \n...           ...      ...            ...           ...                  ...   \n3465554   3518462   404560  1645519933345          TASK        SUBMIT_ANSWER   \n3465555   3518463   404560  1645519934803          TASK                 NEXT   \n3465556   3518464   404560  1645519935451       SESSION          REVIEW_TASK   \n3465557   3518465   404552  1645519936842  USER_SESSION  WINDOW_VISIBLE_TRUE   \n3465558   3518466   404551  1645519936855          TASK        SUBMIT_ANSWER   \n\n        event_type                     transaction_token  session_id  \\\n0             VIEW  7a10ca52-ffb5-4069-8800-0dc86d778e94         NaN   \n1            CLICK  7a10ca52-ffb5-4069-8800-0dc86d778e94         NaN   \n2            CLICK  7a10ca52-ffb5-4069-8800-0dc86d778e94         NaN   \n3             VIEW  88fdcaad-f73b-46a2-b561-d262f2441442         NaN   \n4            CLICK  88fdcaad-f73b-46a2-b561-d262f2441442         NaN   \n...            ...                                   ...         ...   \n3465554      CLICK  9edfed2d-ebe8-4b0e-873c-9ba13e6541b3    112259.0   \n3465555      CLICK  9edfed2d-ebe8-4b0e-873c-9ba13e6541b3    112259.0   \n3465556       VIEW  133248bc-5771-4240-94c2-77b23b7c2d97    112259.0   \n3465557       VIEW                                   NaN         NaN   \n3465558      CLICK  a9f626bc-184f-4e35-a466-110f26d042c4    112240.0   \n\n                                             tracking_data evaluation  \\\n0                                                      NaN        NaN   \n1                                                      NaN        NaN   \n2                                                      NaN        NaN   \n3                                                      NaN        NaN   \n4                                                      NaN        NaN   \n...                                                    ...        ...   \n3465554                                                NaN    CORRECT   \n3465555                                                NaN    CORRECT   \n3465556                                                NaN        NaN   \n3465557  {\"location\": \"https://app.lernnavi.ch/session/...        NaN   \n3465558                                                NaN      WRONG   \n\n             week  \n0        2021-w20  \n1        2021-w20  \n2        2021-w20  \n3        2021-w20  \n4        2021-w20  \n...           ...  \n3465554  2022-w08  \n3465555  2022-w08  \n3465556  2022-w08  \n3465557  2022-w08  \n3465558  2022-w08  \n\n[3465559 rows x 11 columns]",
      "text/html": "<div>\n<style scoped>\n    .dataframe tbody tr th:only-of-type {\n        vertical-align: middle;\n    }\n\n    .dataframe tbody tr th {\n        vertical-align: top;\n    }\n\n    .dataframe thead th {\n        text-align: right;\n    }\n</style>\n<table border=\"1\" class=\"dataframe\">\n  <thead>\n    <tr style=\"text-align: right;\">\n      <th></th>\n      <th>event_id</th>\n      <th>user_id</th>\n      <th>timestamp</th>\n      <th>category</th>\n      <th>action</th>\n      <th>event_type</th>\n      <th>transaction_token</th>\n      <th>session_id</th>\n      <th>tracking_data</th>\n      <th>evaluation</th>\n      <th>week</th>\n    </tr>\n  </thead>\n  <tbody>\n    <tr>\n      <th>0</th>\n      <td>62</td>\n      <td>393211</td>\n      <td>1621583814885</td>\n      <td>TASK</td>\n      <td>VIEW_QUESTION</td>\n      <td>VIEW</td>\n      <td>7a10ca52-ffb5-4069-8800-0dc86d778e94</td>\n      <td>NaN</td>\n      <td>NaN</td>\n      <td>NaN</td>\n      <td>2021-w20</td>\n    </tr>\n    <tr>\n      <th>1</th>\n      <td>63</td>\n      <td>393211</td>\n      <td>1621583898912</td>\n      <td>TASK</td>\n      <td>SUBMIT_ANSWER</td>\n      <td>CLICK</td>\n      <td>7a10ca52-ffb5-4069-8800-0dc86d778e94</td>\n      <td>NaN</td>\n      <td>NaN</td>\n      <td>NaN</td>\n      <td>2021-w20</td>\n    </tr>\n    <tr>\n      <th>2</th>\n      <td>64</td>\n      <td>393211</td>\n      <td>1621583907207</td>\n      <td>TASK</td>\n      <td>NEXT</td>\n      <td>CLICK</td>\n      <td>7a10ca52-ffb5-4069-8800-0dc86d778e94</td>\n      <td>NaN</td>\n      <td>NaN</td>\n      <td>NaN</td>\n      <td>2021-w20</td>\n    </tr>\n    <tr>\n      <th>3</th>\n      <td>65</td>\n      <td>393211</td>\n      <td>1621583907589</td>\n      <td>TASK</td>\n      <td>VIEW_QUESTION</td>\n      <td>VIEW</td>\n      <td>88fdcaad-f73b-46a2-b561-d262f2441442</td>\n      <td>NaN</td>\n      <td>NaN</td>\n      <td>NaN</td>\n      <td>2021-w20</td>\n    </tr>\n    <tr>\n      <th>4</th>\n      <td>66</td>\n      <td>393211</td>\n      <td>1621584222588</td>\n      <td>TASK</td>\n      <td>SUBMIT_ANSWER</td>\n      <td>CLICK</td>\n      <td>88fdcaad-f73b-46a2-b561-d262f2441442</td>\n      <td>NaN</td>\n      <td>NaN</td>\n      <td>NaN</td>\n      <td>2021-w20</td>\n    </tr>\n    <tr>\n      <th>...</th>\n      <td>...</td>\n      <td>...</td>\n      <td>...</td>\n      <td>...</td>\n      <td>...</td>\n      <td>...</td>\n      <td>...</td>\n      <td>...</td>\n      <td>...</td>\n      <td>...</td>\n      <td>...</td>\n    </tr>\n    <tr>\n      <th>3465554</th>\n      <td>3518462</td>\n      <td>404560</td>\n      <td>1645519933345</td>\n      <td>TASK</td>\n      <td>SUBMIT_ANSWER</td>\n      <td>CLICK</td>\n      <td>9edfed2d-ebe8-4b0e-873c-9ba13e6541b3</td>\n      <td>112259.0</td>\n      <td>NaN</td>\n      <td>CORRECT</td>\n      <td>2022-w08</td>\n    </tr>\n    <tr>\n      <th>3465555</th>\n      <td>3518463</td>\n      <td>404560</td>\n      <td>1645519934803</td>\n      <td>TASK</td>\n      <td>NEXT</td>\n      <td>CLICK</td>\n      <td>9edfed2d-ebe8-4b0e-873c-9ba13e6541b3</td>\n      <td>112259.0</td>\n      <td>NaN</td>\n      <td>CORRECT</td>\n      <td>2022-w08</td>\n    </tr>\n    <tr>\n      <th>3465556</th>\n      <td>3518464</td>\n      <td>404560</td>\n      <td>1645519935451</td>\n      <td>SESSION</td>\n      <td>REVIEW_TASK</td>\n      <td>VIEW</td>\n      <td>133248bc-5771-4240-94c2-77b23b7c2d97</td>\n      <td>112259.0</td>\n      <td>NaN</td>\n      <td>NaN</td>\n      <td>2022-w08</td>\n    </tr>\n    <tr>\n      <th>3465557</th>\n      <td>3518465</td>\n      <td>404552</td>\n      <td>1645519936842</td>\n      <td>USER_SESSION</td>\n      <td>WINDOW_VISIBLE_TRUE</td>\n      <td>VIEW</td>\n      <td>NaN</td>\n      <td>NaN</td>\n      <td>{\"location\": \"https://app.lernnavi.ch/session/...</td>\n      <td>NaN</td>\n      <td>2022-w08</td>\n    </tr>\n    <tr>\n      <th>3465558</th>\n      <td>3518466</td>\n      <td>404551</td>\n      <td>1645519936855</td>\n      <td>TASK</td>\n      <td>SUBMIT_ANSWER</td>\n      <td>CLICK</td>\n      <td>a9f626bc-184f-4e35-a466-110f26d042c4</td>\n      <td>112240.0</td>\n      <td>NaN</td>\n      <td>WRONG</td>\n      <td>2022-w08</td>\n    </tr>\n  </tbody>\n</table>\n<p>3465559 rows × 11 columns</p>\n</div>"
     },
     "execution_count": 18,
     "metadata": {},
     "output_type": "execute_result"
    }
   ],
   "source": [
    "# Your code for building the dataframe goes here\n",
    "events_with_eval['week'] = pd.to_datetime(events_with_eval['timestamp'], unit='ms').dt.strftime('%Y-w%U')\n",
    "events_with_eval"
   ]
  },
  {
   "cell_type": "code",
   "execution_count": 34,
   "outputs": [
    {
     "data": {
      "text/plain": "       user_id      week  num_events\n0       387604  2021-w20           1\n1       387604  2021-w21           1\n2       387604  2021-w25           7\n3       387604  2021-w26          25\n4       387604  2021-w31          12\n...        ...       ...         ...\n27705   404600  2022-w08          34\n27706   404603  2022-w08         112\n27707   404604  2022-w08          43\n27708   404605  2022-w08          22\n27709   404623  2022-w08          37\n\n[27710 rows x 3 columns]",
      "text/html": "<div>\n<style scoped>\n    .dataframe tbody tr th:only-of-type {\n        vertical-align: middle;\n    }\n\n    .dataframe tbody tr th {\n        vertical-align: top;\n    }\n\n    .dataframe thead th {\n        text-align: right;\n    }\n</style>\n<table border=\"1\" class=\"dataframe\">\n  <thead>\n    <tr style=\"text-align: right;\">\n      <th></th>\n      <th>user_id</th>\n      <th>week</th>\n      <th>num_events</th>\n    </tr>\n  </thead>\n  <tbody>\n    <tr>\n      <th>0</th>\n      <td>387604</td>\n      <td>2021-w20</td>\n      <td>1</td>\n    </tr>\n    <tr>\n      <th>1</th>\n      <td>387604</td>\n      <td>2021-w21</td>\n      <td>1</td>\n    </tr>\n    <tr>\n      <th>2</th>\n      <td>387604</td>\n      <td>2021-w25</td>\n      <td>7</td>\n    </tr>\n    <tr>\n      <th>3</th>\n      <td>387604</td>\n      <td>2021-w26</td>\n      <td>25</td>\n    </tr>\n    <tr>\n      <th>4</th>\n      <td>387604</td>\n      <td>2021-w31</td>\n      <td>12</td>\n    </tr>\n    <tr>\n      <th>...</th>\n      <td>...</td>\n      <td>...</td>\n      <td>...</td>\n    </tr>\n    <tr>\n      <th>27705</th>\n      <td>404600</td>\n      <td>2022-w08</td>\n      <td>34</td>\n    </tr>\n    <tr>\n      <th>27706</th>\n      <td>404603</td>\n      <td>2022-w08</td>\n      <td>112</td>\n    </tr>\n    <tr>\n      <th>27707</th>\n      <td>404604</td>\n      <td>2022-w08</td>\n      <td>43</td>\n    </tr>\n    <tr>\n      <th>27708</th>\n      <td>404605</td>\n      <td>2022-w08</td>\n      <td>22</td>\n    </tr>\n    <tr>\n      <th>27709</th>\n      <td>404623</td>\n      <td>2022-w08</td>\n      <td>37</td>\n    </tr>\n  </tbody>\n</table>\n<p>27710 rows × 3 columns</p>\n</div>"
     },
     "execution_count": 34,
     "metadata": {},
     "output_type": "execute_result"
    }
   ],
   "source": [
    "users_weekly_event = events_with_eval.groupby(['user_id', 'week'])\n",
    "users_weekly_stats = users_weekly_event.apply(len).reset_index(name='num_events')\n",
    "users_weekly_stats"
   ],
   "metadata": {
    "collapsed": false,
    "pycharm": {
     "name": "#%%\n"
    }
   }
  },
  {
   "cell_type": "code",
   "execution_count": 35,
   "outputs": [
    {
     "data": {
      "text/plain": "       user_id      week  num_events  gender\n0       387604  2021-w20           1     NaN\n1       387604  2021-w21           1     NaN\n2       387604  2021-w25           7     NaN\n3       387604  2021-w26          25     NaN\n4       387604  2021-w31          12     NaN\n...        ...       ...         ...     ...\n27705   404600  2022-w08          34     NaN\n27706   404603  2022-w08         112  FEMALE\n27707   404604  2022-w08          43  FEMALE\n27708   404605  2022-w08          22  FEMALE\n27709   404623  2022-w08          37    MALE\n\n[27710 rows x 4 columns]",
      "text/html": "<div>\n<style scoped>\n    .dataframe tbody tr th:only-of-type {\n        vertical-align: middle;\n    }\n\n    .dataframe tbody tr th {\n        vertical-align: top;\n    }\n\n    .dataframe thead th {\n        text-align: right;\n    }\n</style>\n<table border=\"1\" class=\"dataframe\">\n  <thead>\n    <tr style=\"text-align: right;\">\n      <th></th>\n      <th>user_id</th>\n      <th>week</th>\n      <th>num_events</th>\n      <th>gender</th>\n    </tr>\n  </thead>\n  <tbody>\n    <tr>\n      <th>0</th>\n      <td>387604</td>\n      <td>2021-w20</td>\n      <td>1</td>\n      <td>NaN</td>\n    </tr>\n    <tr>\n      <th>1</th>\n      <td>387604</td>\n      <td>2021-w21</td>\n      <td>1</td>\n      <td>NaN</td>\n    </tr>\n    <tr>\n      <th>2</th>\n      <td>387604</td>\n      <td>2021-w25</td>\n      <td>7</td>\n      <td>NaN</td>\n    </tr>\n    <tr>\n      <th>3</th>\n      <td>387604</td>\n      <td>2021-w26</td>\n      <td>25</td>\n      <td>NaN</td>\n    </tr>\n    <tr>\n      <th>4</th>\n      <td>387604</td>\n      <td>2021-w31</td>\n      <td>12</td>\n      <td>NaN</td>\n    </tr>\n    <tr>\n      <th>...</th>\n      <td>...</td>\n      <td>...</td>\n      <td>...</td>\n      <td>...</td>\n    </tr>\n    <tr>\n      <th>27705</th>\n      <td>404600</td>\n      <td>2022-w08</td>\n      <td>34</td>\n      <td>NaN</td>\n    </tr>\n    <tr>\n      <th>27706</th>\n      <td>404603</td>\n      <td>2022-w08</td>\n      <td>112</td>\n      <td>FEMALE</td>\n    </tr>\n    <tr>\n      <th>27707</th>\n      <td>404604</td>\n      <td>2022-w08</td>\n      <td>43</td>\n      <td>FEMALE</td>\n    </tr>\n    <tr>\n      <th>27708</th>\n      <td>404605</td>\n      <td>2022-w08</td>\n      <td>22</td>\n      <td>FEMALE</td>\n    </tr>\n    <tr>\n      <th>27709</th>\n      <td>404623</td>\n      <td>2022-w08</td>\n      <td>37</td>\n      <td>MALE</td>\n    </tr>\n  </tbody>\n</table>\n<p>27710 rows × 4 columns</p>\n</div>"
     },
     "execution_count": 35,
     "metadata": {},
     "output_type": "execute_result"
    }
   ],
   "source": [
    "users_weekly_stats = users_weekly_stats.merge(user_gender, on='user_id', how='left')\n",
    "users_weekly_stats"
   ],
   "metadata": {
    "collapsed": false,
    "pycharm": {
     "name": "#%%\n"
    }
   }
  },
  {
   "cell_type": "code",
   "execution_count": 36,
   "outputs": [
    {
     "data": {
      "text/plain": "       user_id      week  num_events  gender  percentage_correct\n0       387604  2021-w20           1     NaN            0.000000\n1       387604  2021-w21           1     NaN            0.000000\n2       387604  2021-w25           7     NaN            0.000000\n3       387604  2021-w26          25     NaN            0.000000\n4       387604  2021-w31          12     NaN            0.000000\n...        ...       ...         ...     ...                 ...\n27705   404600  2022-w08          34     NaN            0.000000\n27706   404603  2022-w08         112  FEMALE            0.160714\n27707   404604  2022-w08          43  FEMALE            0.000000\n27708   404605  2022-w08          22  FEMALE            0.000000\n27709   404623  2022-w08          37    MALE            0.000000\n\n[27710 rows x 5 columns]",
      "text/html": "<div>\n<style scoped>\n    .dataframe tbody tr th:only-of-type {\n        vertical-align: middle;\n    }\n\n    .dataframe tbody tr th {\n        vertical-align: top;\n    }\n\n    .dataframe thead th {\n        text-align: right;\n    }\n</style>\n<table border=\"1\" class=\"dataframe\">\n  <thead>\n    <tr style=\"text-align: right;\">\n      <th></th>\n      <th>user_id</th>\n      <th>week</th>\n      <th>num_events</th>\n      <th>gender</th>\n      <th>percentage_correct</th>\n    </tr>\n  </thead>\n  <tbody>\n    <tr>\n      <th>0</th>\n      <td>387604</td>\n      <td>2021-w20</td>\n      <td>1</td>\n      <td>NaN</td>\n      <td>0.000000</td>\n    </tr>\n    <tr>\n      <th>1</th>\n      <td>387604</td>\n      <td>2021-w21</td>\n      <td>1</td>\n      <td>NaN</td>\n      <td>0.000000</td>\n    </tr>\n    <tr>\n      <th>2</th>\n      <td>387604</td>\n      <td>2021-w25</td>\n      <td>7</td>\n      <td>NaN</td>\n      <td>0.000000</td>\n    </tr>\n    <tr>\n      <th>3</th>\n      <td>387604</td>\n      <td>2021-w26</td>\n      <td>25</td>\n      <td>NaN</td>\n      <td>0.000000</td>\n    </tr>\n    <tr>\n      <th>4</th>\n      <td>387604</td>\n      <td>2021-w31</td>\n      <td>12</td>\n      <td>NaN</td>\n      <td>0.000000</td>\n    </tr>\n    <tr>\n      <th>...</th>\n      <td>...</td>\n      <td>...</td>\n      <td>...</td>\n      <td>...</td>\n      <td>...</td>\n    </tr>\n    <tr>\n      <th>27705</th>\n      <td>404600</td>\n      <td>2022-w08</td>\n      <td>34</td>\n      <td>NaN</td>\n      <td>0.000000</td>\n    </tr>\n    <tr>\n      <th>27706</th>\n      <td>404603</td>\n      <td>2022-w08</td>\n      <td>112</td>\n      <td>FEMALE</td>\n      <td>0.160714</td>\n    </tr>\n    <tr>\n      <th>27707</th>\n      <td>404604</td>\n      <td>2022-w08</td>\n      <td>43</td>\n      <td>FEMALE</td>\n      <td>0.000000</td>\n    </tr>\n    <tr>\n      <th>27708</th>\n      <td>404605</td>\n      <td>2022-w08</td>\n      <td>22</td>\n      <td>FEMALE</td>\n      <td>0.000000</td>\n    </tr>\n    <tr>\n      <th>27709</th>\n      <td>404623</td>\n      <td>2022-w08</td>\n      <td>37</td>\n      <td>MALE</td>\n      <td>0.000000</td>\n    </tr>\n  </tbody>\n</table>\n<p>27710 rows × 5 columns</p>\n</div>"
     },
     "execution_count": 36,
     "metadata": {},
     "output_type": "execute_result"
    }
   ],
   "source": [
    "weekly_percentage_correct = users_weekly_event.apply(lambda x: len(x[x['evaluation'] == 'CORRECT']) / len(x[x['evaluation'] != np.nan]))\n",
    "users_weekly_stats = users_weekly_stats.merge(weekly_percentage_correct.reset_index(name='percentage_correct'), on=['user_id', 'week'], how='left')\n",
    "users_weekly_stats"
   ],
   "metadata": {
    "collapsed": false,
    "pycharm": {
     "name": "#%%\n"
    }
   }
  },
  {
   "cell_type": "code",
   "execution_count": 38,
   "outputs": [
    {
     "data": {
      "text/plain": "       user_id      week  num_events  gender  percentage_correct  num_reading\n0       387604  2021-w20           1     NaN            0.000000            0\n1       387604  2021-w21           1     NaN            0.000000            0\n2       387604  2021-w25           7     NaN            0.000000            0\n3       387604  2021-w26          25     NaN            0.000000            0\n4       387604  2021-w31          12     NaN            0.000000            0\n...        ...       ...         ...     ...                 ...          ...\n27705   404600  2022-w08          34     NaN            0.000000            0\n27706   404603  2022-w08         112  FEMALE            0.160714            0\n27707   404604  2022-w08          43  FEMALE            0.000000            0\n27708   404605  2022-w08          22  FEMALE            0.000000            0\n27709   404623  2022-w08          37    MALE            0.000000            5\n\n[27710 rows x 6 columns]",
      "text/html": "<div>\n<style scoped>\n    .dataframe tbody tr th:only-of-type {\n        vertical-align: middle;\n    }\n\n    .dataframe tbody tr th {\n        vertical-align: top;\n    }\n\n    .dataframe thead th {\n        text-align: right;\n    }\n</style>\n<table border=\"1\" class=\"dataframe\">\n  <thead>\n    <tr style=\"text-align: right;\">\n      <th></th>\n      <th>user_id</th>\n      <th>week</th>\n      <th>num_events</th>\n      <th>gender</th>\n      <th>percentage_correct</th>\n      <th>num_reading</th>\n    </tr>\n  </thead>\n  <tbody>\n    <tr>\n      <th>0</th>\n      <td>387604</td>\n      <td>2021-w20</td>\n      <td>1</td>\n      <td>NaN</td>\n      <td>0.000000</td>\n      <td>0</td>\n    </tr>\n    <tr>\n      <th>1</th>\n      <td>387604</td>\n      <td>2021-w21</td>\n      <td>1</td>\n      <td>NaN</td>\n      <td>0.000000</td>\n      <td>0</td>\n    </tr>\n    <tr>\n      <th>2</th>\n      <td>387604</td>\n      <td>2021-w25</td>\n      <td>7</td>\n      <td>NaN</td>\n      <td>0.000000</td>\n      <td>0</td>\n    </tr>\n    <tr>\n      <th>3</th>\n      <td>387604</td>\n      <td>2021-w26</td>\n      <td>25</td>\n      <td>NaN</td>\n      <td>0.000000</td>\n      <td>0</td>\n    </tr>\n    <tr>\n      <th>4</th>\n      <td>387604</td>\n      <td>2021-w31</td>\n      <td>12</td>\n      <td>NaN</td>\n      <td>0.000000</td>\n      <td>0</td>\n    </tr>\n    <tr>\n      <th>...</th>\n      <td>...</td>\n      <td>...</td>\n      <td>...</td>\n      <td>...</td>\n      <td>...</td>\n      <td>...</td>\n    </tr>\n    <tr>\n      <th>27705</th>\n      <td>404600</td>\n      <td>2022-w08</td>\n      <td>34</td>\n      <td>NaN</td>\n      <td>0.000000</td>\n      <td>0</td>\n    </tr>\n    <tr>\n      <th>27706</th>\n      <td>404603</td>\n      <td>2022-w08</td>\n      <td>112</td>\n      <td>FEMALE</td>\n      <td>0.160714</td>\n      <td>0</td>\n    </tr>\n    <tr>\n      <th>27707</th>\n      <td>404604</td>\n      <td>2022-w08</td>\n      <td>43</td>\n      <td>FEMALE</td>\n      <td>0.000000</td>\n      <td>0</td>\n    </tr>\n    <tr>\n      <th>27708</th>\n      <td>404605</td>\n      <td>2022-w08</td>\n      <td>22</td>\n      <td>FEMALE</td>\n      <td>0.000000</td>\n      <td>0</td>\n    </tr>\n    <tr>\n      <th>27709</th>\n      <td>404623</td>\n      <td>2022-w08</td>\n      <td>37</td>\n      <td>MALE</td>\n      <td>0.000000</td>\n      <td>5</td>\n    </tr>\n  </tbody>\n</table>\n<p>27710 rows × 6 columns</p>\n</div>"
     },
     "execution_count": 38,
     "metadata": {},
     "output_type": "execute_result"
    }
   ],
   "source": [
    "weekly_num_reading = users_weekly_event.apply(lambda x: len(x[x['action'] == 'GO_TO_THEORY']))\n",
    "users_weekly_stats = users_weekly_stats.merge(weekly_num_reading.reset_index(name='num_reading'),\n",
    "                                              on=['user_id', 'week'])\n",
    "users_weekly_stats"
   ],
   "metadata": {
    "collapsed": false,
    "pycharm": {
     "name": "#%%\n"
    }
   }
  },
  {
   "cell_type": "markdown",
   "id": "1d045819-a60e-4bdf-bdab-f09fa53c823a",
   "metadata": {
    "id": "1d045819-a60e-4bdf-bdab-f09fa53c823a"
   },
   "source": [
    "#### b) Select two features and analyze their behavior over time. Please provide a hypothesis and visualization for both features. For ideas on how to perform a time series exploration, please check the lecture slides and notebook. Discuss your results: what do you observe? Do the results confirm your hypotheses?"
   ]
  },
  {
   "cell_type": "markdown",
   "id": "3ccb6bf8-2d6b-4a53-a4bb-6784c671fec4",
   "metadata": {
    "id": "3ccb6bf8-2d6b-4a53-a4bb-6784c671fec4"
   },
   "source": [
    "*Your discussion goes here*"
   ]
  },
  {
   "cell_type": "markdown",
   "source": [
    "# Task 4: Creative extension \n",
    "\n",
    "Please provide **one** new hypothesis you would like to explore with the data and provide a visualization for it. Discuss your results: what do you observe? Do the results confirm your hypotheses?\n",
    "\n"
   ],
   "metadata": {
    "id": "_s7rWpaLfZGt"
   },
   "id": "_s7rWpaLfZGt"
  },
  {
   "cell_type": "code",
   "source": [
    "# Your creative visualization here"
   ],
   "metadata": {
    "id": "3-Wtdj4KfdY_"
   },
   "id": "3-Wtdj4KfdY_",
   "execution_count": null,
   "outputs": []
  },
  {
   "cell_type": "markdown",
   "source": [
    "*Your discussion goes here*"
   ],
   "metadata": {
    "id": "yTT8SklBgGxN"
   },
   "id": "yTT8SklBgGxN"
  }
 ],
 "metadata": {
  "kernelspec": {
   "display_name": "Python 3 (ipykernel)",
   "language": "python",
   "name": "python3"
  },
  "language_info": {
   "codemirror_mode": {
    "name": "ipython",
    "version": 3
   },
   "file_extension": ".py",
   "mimetype": "text/x-python",
   "name": "python",
   "nbconvert_exporter": "python",
   "pygments_lexer": "ipython3",
   "version": "3.8.8"
  },
  "colab": {
   "name": "m2-lernnavi-sciper.ipynb",
   "provenance": [],
   "collapsed_sections": []
  }
 },
 "nbformat": 4,
 "nbformat_minor": 5
}